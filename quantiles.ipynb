{
 "cells": [
  {
   "cell_type": "code",
   "execution_count": 1,
   "metadata": {},
   "outputs": [],
   "source": [
    "import numpy as np"
   ]
  },
  {
   "cell_type": "code",
   "execution_count": 2,
   "metadata": {},
   "outputs": [],
   "source": [
    "def find_quantiles(file_path:str, func_name: str):\n",
    "    with open(file_path, \"r\") as f:\n",
    "        lines = f.readlines()\n",
    "\n",
    "    times = [float(line.split()[2]) for line in lines if func_name in line]\n",
    "\n",
    "    q50 = np.quantile(times, 0.5)\n",
    "    q70 = np.quantile(times, 0.7)\n",
    "    q90 = np.quantile(times, 0.9)\n",
    "    std = np.std(times)\n",
    "    mean = np.mean(times)\n",
    "    \n",
    "    print(func_name)\n",
    "    print(f\"50-й квантиль: {q50}\")\n",
    "    print(f\"70-й квантиль: {q70}\")\n",
    "    print(f\"90-й квантиль: {q90}\")\n",
    "    print(f\"std is {std}\")\n",
    "    print(f\"mean is {mean}\")\n",
    "    \n",
    "    print(\"*\"*10)"
   ]
  },
  {
   "cell_type": "code",
   "execution_count": 4,
   "metadata": {},
   "outputs": [
    {
     "name": "stdout",
     "output_type": "stream",
     "text": [
      "BenchmarkNewPerfectHash\n",
      "50-й квантиль: 508727665.0\n",
      "70-й квантиль: 666179733.5999999\n",
      "90-й квантиль: 1056445672.1\n",
      "**********\n",
      "BenchmarkLookupExisting\n",
      "50-й квантиль: 14.085\n",
      "70-й квантиль: 14.424\n",
      "90-й квантиль: 15.399999999999999\n",
      "**********\n",
      "BenchmarkLookupNonExisting\n",
      "50-й квантиль: 19.525\n",
      "70-й квантиль: 19.874000000000002\n",
      "90-й квантиль: 20.028\n",
      "**********\n",
      "BenchmarkGetValueByKey\n",
      "50-й квантиль: 14.39\n",
      "70-й квантиль: 14.4\n",
      "90-й квантиль: 14.42\n",
      "**********\n",
      "BenchmarkPerfectHash_GetByKey_Together\n",
      "50-й квантиль: 0.030945\n",
      "70-й квантиль: 0.031042\n",
      "90-й квантиль: 0.031562999999999994\n",
      "**********\n",
      "BenchmarkPutNewKeyValue\n",
      "50-й квантиль: 1315671771.0\n",
      "70-й квантиль: 1734087762.9999998\n",
      "90-й квантиль: 3099981627.1999993\n",
      "**********\n"
     ]
    }
   ],
   "source": [
    "funcNames = [\n",
    "    \"BenchmarkNewPerfectHash\", \n",
    "    \"BenchmarkLookupExisting\",\n",
    "    \"BenchmarkLookupNonExisting\",\n",
    "    \"BenchmarkGetValueByKey\",\n",
    "    \"BenchmarkPerfectHash_GetByKey_Together\",\n",
    "    \"BenchmarkPutNewKeyValue\"\n",
    "    ]\n",
    "for funcName in funcNames:\n",
    "    find_quantiles(\"lab_01/perfect_hash/benchs\", funcName)"
   ]
  },
  {
   "cell_type": "code",
   "execution_count": 5,
   "metadata": {},
   "outputs": [
    {
     "name": "stdout",
     "output_type": "stream",
     "text": [
      "BenchmarkNewExtendableHash\n",
      "50-й квантиль: 44298189.0\n",
      "70-й квантиль: 44848254.6\n",
      "90-й квантиль: 45033852.0\n",
      "std is 1123191.1786724646\n",
      "mean is 44016431.4\n",
      "**********\n",
      "BenchmarkExtendableHash_Insert\n",
      "50-й квантиль: 1339574.5\n",
      "70-й квантиль: 3207005116.9\n",
      "90-й квантиль: 3289869687.5\n",
      "std is 1543059970.8160985\n",
      "mean is 1091609439.6017578\n",
      "**********\n",
      "BenchmarkExtendableHash_GetByKey_ExistingKey\n",
      "50-й квантиль: 12.835\n",
      "70-й квантиль: 12.853\n",
      "90-й квантиль: 12.870999999999999\n",
      "std is 0.03492849839314618\n",
      "mean is 12.830000000000002\n",
      "**********\n",
      "BenchmarkExtendableHash_GetByKey_NotExistingKey\n",
      "50-й квантиль: 14.68\n",
      "70-й квантиль: 14.703\n",
      "90-й квантиль: 14.75\n",
      "std is 0.07673982017179865\n",
      "mean is 14.709\n",
      "**********\n",
      "BenchmarkExtendableHash_GetByKey_Together\n",
      "50-й квантиль: 2453373229.002895\n",
      "70-й квантиль: 4980880842.0\n",
      "90-й квантиль: 5408214478.6\n",
      "std is 2605139347.3185406\n",
      "mean is 2595299160.452727\n",
      "**********\n",
      "BenchmarkExtendableHash_InsertFileALL\n",
      "50-й квантиль: 0.0051915\n",
      "70-й квантиль: 0.0053379000000000005\n",
      "90-й квантиль: 0.0058000000000000005\n",
      "std is 0.00032128804833046607\n",
      "mean is 0.0052733\n",
      "**********\n",
      "BenchmarkExtendableHash_InsertFileOne\n",
      "50-й квантиль: 1339574.5\n",
      "70-й квантиль: 1492130.4\n",
      "90-й квантиль: 1599108.8\n",
      "std is 211853.88962775737\n",
      "mean is 1341006.3\n",
      "**********\n",
      "BenchmarkExtendableHash_GetByKey_TogetherFILE\n",
      "50-й квантиль: 0.0054435\n",
      "70-й квантиль: 0.0055008\n",
      "90-й квантиль: 0.0057567\n",
      "std is 0.0001967913615990296\n",
      "mean is 0.005453400000000001\n",
      "**********\n"
     ]
    }
   ],
   "source": [
    "funcNames = [\n",
    "    \"BenchmarkNewExtendableHash\", \n",
    "    \"BenchmarkExtendableHash_Insert\",\n",
    "    \"BenchmarkExtendableHash_GetByKey_ExistingKey\",\n",
    "    \"BenchmarkExtendableHash_GetByKey_NotExistingKey\",\n",
    "    \"BenchmarkExtendableHash_GetByKey_Together\",\n",
    "    \"BenchmarkExtendableHash_InsertFileALL\",\n",
    "    \"BenchmarkExtendableHash_InsertFileOne\",\n",
    "    \"BenchmarkExtendableHash_GetByKey_TogetherFILE\",\n",
    "    ]\n",
    "for funcName in funcNames:\n",
    "    find_quantiles(\"lab_01/extendible_hashing/benchs\", funcName)"
   ]
  },
  {
   "cell_type": "code",
   "execution_count": 4,
   "metadata": {},
   "outputs": [
    {
     "name": "stdout",
     "output_type": "stream",
     "text": [
      "BenchmarkHashFunction_Hash\n",
      "50-й квантиль: 4.57\n",
      "70-й квантиль: 4.5981\n",
      "90-й квантиль: 4.6446000000000005\n",
      "std is 0.040329545276660675\n",
      "mean is 4.579166666666667\n",
      "**********\n",
      "BenchmarkMinHash_Signature\n",
      "50-й квантиль: 2646197.5\n",
      "70-й квантиль: 2714820.9\n",
      "90-й квантиль: 2824961.3\n",
      "std is 93630.4900025212\n",
      "mean is 2681660.566666667\n",
      "**********\n",
      "BenchmarkMinHash_Similarity\n",
      "50-й квантиль: 46.71\n",
      "70-й квантиль: 46.772\n",
      "90-й квантиль: 47.007\n",
      "std is 0.22852206312155773\n",
      "mean is 46.76099999999999\n",
      "**********\n"
     ]
    }
   ],
   "source": [
    "funcNames = [\n",
    "    \"BenchmarkHashFunction_Hash\", \n",
    "    \"BenchmarkMinHash_Signature\",\n",
    "    \"BenchmarkMinHash_Similarity\",\n",
    "    ]\n",
    "for funcName in funcNames:\n",
    "    find_quantiles(\"lab_01/min_hash/benchs\", funcName)"
   ]
  },
  {
   "cell_type": "code",
   "execution_count": null,
   "metadata": {},
   "outputs": [],
   "source": []
  }
 ],
 "metadata": {
  "kernelspec": {
   "display_name": "env",
   "language": "python",
   "name": "python3"
  },
  "language_info": {
   "codemirror_mode": {
    "name": "ipython",
    "version": 3
   },
   "file_extension": ".py",
   "mimetype": "text/x-python",
   "name": "python",
   "nbconvert_exporter": "python",
   "pygments_lexer": "ipython3",
   "version": "3.13.2"
  }
 },
 "nbformat": 4,
 "nbformat_minor": 2
}
