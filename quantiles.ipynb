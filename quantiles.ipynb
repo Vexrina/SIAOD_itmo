{
 "cells": [
  {
   "cell_type": "code",
   "execution_count": 2,
   "metadata": {},
   "outputs": [],
   "source": [
    "import numpy as np"
   ]
  },
  {
   "cell_type": "code",
   "execution_count": 3,
   "metadata": {},
   "outputs": [],
   "source": [
    "def find_quantiles(file_path:str, func_name: str):\n",
    "    with open(file_path, \"r\") as f:\n",
    "        lines = f.readlines()\n",
    "\n",
    "    times = [float(line.split()[2]) for line in lines if func_name in line]\n",
    "\n",
    "    q50 = np.quantile(times, 0.5)\n",
    "    q70 = np.quantile(times, 0.7)\n",
    "    q90 = np.quantile(times, 0.9)\n",
    "    \n",
    "    print(func_name)\n",
    "    print(f\"50-й квантиль: {q50}\")\n",
    "    print(f\"70-й квантиль: {q70}\")\n",
    "    print(f\"90-й квантиль: {q90}\")\n",
    "    \n",
    "    print(\"*\"*10)"
   ]
  },
  {
   "cell_type": "code",
   "execution_count": 4,
   "metadata": {},
   "outputs": [
    {
     "name": "stdout",
     "output_type": "stream",
     "text": [
      "BenchmarkNewPerfectHash\n",
      "50-й квантиль: 508727665.0\n",
      "70-й квантиль: 666179733.5999999\n",
      "90-й квантиль: 1056445672.1\n",
      "**********\n",
      "BenchmarkLookupExisting\n",
      "50-й квантиль: 14.085\n",
      "70-й квантиль: 14.424\n",
      "90-й квантиль: 15.399999999999999\n",
      "**********\n",
      "BenchmarkLookupNonExisting\n",
      "50-й квантиль: 19.525\n",
      "70-й квантиль: 19.874000000000002\n",
      "90-й квантиль: 20.028\n",
      "**********\n",
      "BenchmarkGetValueByKey\n",
      "50-й квантиль: 14.39\n",
      "70-й квантиль: 14.4\n",
      "90-й квантиль: 14.42\n",
      "**********\n",
      "BenchmarkPerfectHash_GetByKey_Together\n",
      "50-й квантиль: 0.030945\n",
      "70-й квантиль: 0.031042\n",
      "90-й квантиль: 0.031562999999999994\n",
      "**********\n",
      "BenchmarkPutNewKeyValue\n",
      "50-й квантиль: 1315671771.0\n",
      "70-й квантиль: 1734087762.9999998\n",
      "90-й квантиль: 3099981627.1999993\n",
      "**********\n"
     ]
    }
   ],
   "source": [
    "funcNames = [\n",
    "    \"BenchmarkNewPerfectHash\", \n",
    "    \"BenchmarkLookupExisting\",\n",
    "    \"BenchmarkLookupNonExisting\",\n",
    "    \"BenchmarkGetValueByKey\",\n",
    "    \"BenchmarkPerfectHash_GetByKey_Together\",\n",
    "    \"BenchmarkPutNewKeyValue\"\n",
    "    ]\n",
    "for funcName in funcNames:\n",
    "    find_quantiles(\"lab_01/perfect_hash/benchs\", funcName)"
   ]
  },
  {
   "cell_type": "code",
   "execution_count": 5,
   "metadata": {},
   "outputs": [
    {
     "name": "stdout",
     "output_type": "stream",
     "text": [
      "BenchmarkNewExtendableHash\n",
      "50-й квантиль: 79081130.0\n",
      "70-й квантиль: 81423970.8\n",
      "90-й квантиль: 83017898.4\n",
      "**********\n",
      "BenchmarkExtendableHash_Insert\n",
      "50-й квантиль: 5172038517.0\n",
      "70-й квантиль: 5245179029.6\n",
      "90-й квантиль: 5567630068.8\n",
      "**********\n",
      "BenchmarkExtendableHash_GetByKey_ExistingKey\n",
      "50-й квантиль: 17.19\n",
      "70-й квантиль: 17.23\n",
      "90-й квантиль: 17.330000000000002\n",
      "**********\n",
      "BenchmarkExtendableHash_GetByKey_NotExistingKey\n",
      "50-й квантиль: 22.23\n",
      "70-й квантиль: 22.404\n",
      "90-й квантиль: 22.740000000000002\n",
      "**********\n",
      "BenchmarkExtendableHash_GetByKey_Together\n",
      "50-й квантиль: 8442664768.0\n",
      "70-й квантиль: 8516128552.6\n",
      "90-й квантиль: 8562995111.8\n",
      "**********\n"
     ]
    }
   ],
   "source": [
    "funcNames = [\n",
    "    \"BenchmarkNewExtendableHash\", \n",
    "    \"BenchmarkExtendableHash_Insert\",\n",
    "    \"BenchmarkExtendableHash_GetByKey_ExistingKey\",\n",
    "    \"BenchmarkExtendableHash_GetByKey_NotExistingKey\",\n",
    "    \"BenchmarkExtendableHash_GetByKey_Together\",\n",
    "    ]\n",
    "for funcName in funcNames:\n",
    "    find_quantiles(\"lab_01/extendible_hashing/benchs\", funcName)"
   ]
  },
  {
   "cell_type": "code",
   "execution_count": null,
   "metadata": {},
   "outputs": [],
   "source": []
  }
 ],
 "metadata": {
  "kernelspec": {
   "display_name": "Python 3",
   "language": "python",
   "name": "python3"
  },
  "language_info": {
   "codemirror_mode": {
    "name": "ipython",
    "version": 3
   },
   "file_extension": ".py",
   "mimetype": "text/x-python",
   "name": "python",
   "nbconvert_exporter": "python",
   "pygments_lexer": "ipython3",
   "version": "3.10.12"
  }
 },
 "nbformat": 4,
 "nbformat_minor": 2
}
